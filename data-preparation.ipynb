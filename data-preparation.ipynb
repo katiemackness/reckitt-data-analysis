{
 "cells": [
  {
   "cell_type": "markdown",
   "id": "9318318e",
   "metadata": {},
   "source": [
    "# Reckitt México Data Science Project\n",
    "## Data Collection and Cleaning\n",
    "Author: Katlyn Goeujon-Mackness <br>\n",
    "Last Updated: 11/06/2025 <br>\n",
    "Description: As a first step in the Reckitt analysis, we collect the data together, clean it, transfor it, and export a ready-to-use data set for further analysis.\n",
    "\n",
    "### Key Questions\n",
    "**We must keep the key questions in mind at every stage of the data analysis.**\n",
    "1. Is our brand Vanish performing well overall?\n",
    "2. Who are the key competitors in each segment?\n",
    "3. Which are the main products gaining or losing market share?\n",
    "4. Where are the key opportunities to grow the market and sales?\n",
    "5. Are we performing well in sanitizing products?\n",
    "6. Which area present the most opportunities, and what recommendations would you give to improve?\n",
    "7. What is my sales forecase for Vanish and Lysol for the next three months, and what is the margin for error for this forecast.\n"
   ]
  },
  {
   "cell_type": "markdown",
   "id": "094e903c",
   "metadata": {},
   "source": [
    "### Load the data\n",
    "Note: Due to large file sizes, raw data are not included in this repository."
   ]
  },
  {
   "cell_type": "code",
   "execution_count": 354,
   "id": "07e6b246",
   "metadata": {},
   "outputs": [],
   "source": [
    "# Load libraries\n",
    "import pandas as pd\n",
    "import numpy as np\n",
    "import seaborn as sns\n",
    "import matplotlib.pyplot as py\n",
    "import warnings\n",
    "warnings.filterwarnings('ignore')"
   ]
  },
  {
   "cell_type": "code",
   "execution_count": 355,
   "id": "49bec96f",
   "metadata": {},
   "outputs": [],
   "source": [
    "# Load the data from the different tables using Pandas\n",
    "calendar = pd.read_excel('data/raw/DIM_CALENDAR.xlsx')\n",
    "category = pd.read_csv('data/raw/DIM_CATEGORY.csv')\n",
    "product = pd.read_excel('data/raw/DIM_PRODUCT.xlsx')\n",
    "segment = pd.read_excel('data/raw/DIM_SEGMENT.xlsx')\n",
    "sales = pd.read_csv('data/raw/FACT_SALES (1) (1).csv')"
   ]
  },
  {
   "cell_type": "markdown",
   "id": "8ad57cb6",
   "metadata": {},
   "source": [
    "### Preview the Data\n",
    "Load the first few roas of each DataFrame and view summaries."
   ]
  },
  {
   "cell_type": "code",
   "execution_count": 356,
   "id": "2cd88cf9",
   "metadata": {},
   "outputs": [
    {
     "data": {
      "text/html": [
       "<div>\n",
       "<style scoped>\n",
       "    .dataframe tbody tr th:only-of-type {\n",
       "        vertical-align: middle;\n",
       "    }\n",
       "\n",
       "    .dataframe tbody tr th {\n",
       "        vertical-align: top;\n",
       "    }\n",
       "\n",
       "    .dataframe thead th {\n",
       "        text-align: right;\n",
       "    }\n",
       "</style>\n",
       "<table border=\"1\" class=\"dataframe\">\n",
       "  <thead>\n",
       "    <tr style=\"text-align: right;\">\n",
       "      <th></th>\n",
       "      <th>WEEK</th>\n",
       "      <th>YEAR</th>\n",
       "      <th>MONTH</th>\n",
       "      <th>WEEK_NUMBER</th>\n",
       "      <th>DATE</th>\n",
       "    </tr>\n",
       "  </thead>\n",
       "  <tbody>\n",
       "    <tr>\n",
       "      <th>0</th>\n",
       "      <td>01-21</td>\n",
       "      <td>2021</td>\n",
       "      <td>1</td>\n",
       "      <td>1</td>\n",
       "      <td>2021-01-10</td>\n",
       "    </tr>\n",
       "    <tr>\n",
       "      <th>1</th>\n",
       "      <td>02-21</td>\n",
       "      <td>2021</td>\n",
       "      <td>1</td>\n",
       "      <td>2</td>\n",
       "      <td>2021-01-17</td>\n",
       "    </tr>\n",
       "    <tr>\n",
       "      <th>2</th>\n",
       "      <td>03-21</td>\n",
       "      <td>2021</td>\n",
       "      <td>1</td>\n",
       "      <td>3</td>\n",
       "      <td>2021-01-24</td>\n",
       "    </tr>\n",
       "    <tr>\n",
       "      <th>3</th>\n",
       "      <td>04-21</td>\n",
       "      <td>2021</td>\n",
       "      <td>1</td>\n",
       "      <td>4</td>\n",
       "      <td>2021-01-31</td>\n",
       "    </tr>\n",
       "    <tr>\n",
       "      <th>4</th>\n",
       "      <td>05-21</td>\n",
       "      <td>2021</td>\n",
       "      <td>2</td>\n",
       "      <td>5</td>\n",
       "      <td>2021-02-07</td>\n",
       "    </tr>\n",
       "  </tbody>\n",
       "</table>\n",
       "</div>"
      ],
      "text/plain": [
       "    WEEK  YEAR  MONTH  WEEK_NUMBER       DATE\n",
       "0  01-21  2021      1            1 2021-01-10\n",
       "1  02-21  2021      1            2 2021-01-17\n",
       "2  03-21  2021      1            3 2021-01-24\n",
       "3  04-21  2021      1            4 2021-01-31\n",
       "4  05-21  2021      2            5 2021-02-07"
      ]
     },
     "execution_count": 356,
     "metadata": {},
     "output_type": "execute_result"
    }
   ],
   "source": [
    "# Calendar: Assigns information to the weeks of the year\n",
    "calendar.head()"
   ]
  },
  {
   "cell_type": "code",
   "execution_count": 357,
   "id": "30feb66d",
   "metadata": {},
   "outputs": [
    {
     "name": "stdout",
     "output_type": "stream",
     "text": [
      "<class 'pandas.core.frame.DataFrame'>\n",
      "RangeIndex: 156 entries, 0 to 155\n",
      "Data columns (total 5 columns):\n",
      " #   Column       Non-Null Count  Dtype         \n",
      "---  ------       --------------  -----         \n",
      " 0   WEEK         156 non-null    object        \n",
      " 1   YEAR         156 non-null    int64         \n",
      " 2   MONTH        156 non-null    int64         \n",
      " 3   WEEK_NUMBER  156 non-null    int64         \n",
      " 4   DATE         156 non-null    datetime64[ns]\n",
      "dtypes: datetime64[ns](1), int64(3), object(1)\n",
      "memory usage: 6.2+ KB\n"
     ]
    }
   ],
   "source": [
    "calendar.info()"
   ]
  },
  {
   "cell_type": "code",
   "execution_count": 358,
   "id": "f5bd604b",
   "metadata": {},
   "outputs": [
    {
     "data": {
      "text/html": [
       "<div>\n",
       "<style scoped>\n",
       "    .dataframe tbody tr th:only-of-type {\n",
       "        vertical-align: middle;\n",
       "    }\n",
       "\n",
       "    .dataframe tbody tr th {\n",
       "        vertical-align: top;\n",
       "    }\n",
       "\n",
       "    .dataframe thead th {\n",
       "        text-align: right;\n",
       "    }\n",
       "</style>\n",
       "<table border=\"1\" class=\"dataframe\">\n",
       "  <thead>\n",
       "    <tr style=\"text-align: right;\">\n",
       "      <th></th>\n",
       "      <th>ID_CATEGORY</th>\n",
       "      <th>CATEGORY</th>\n",
       "    </tr>\n",
       "  </thead>\n",
       "  <tbody>\n",
       "    <tr>\n",
       "      <th>0</th>\n",
       "      <td>1</td>\n",
       "      <td>FABRIC TREATMENT and SANIT\\r\\n</td>\n",
       "    </tr>\n",
       "    <tr>\n",
       "      <th>1</th>\n",
       "      <td>2</td>\n",
       "      <td>AIR CARE</td>\n",
       "    </tr>\n",
       "    <tr>\n",
       "      <th>2</th>\n",
       "      <td>3</td>\n",
       "      <td>LAVAVAJILLAS</td>\n",
       "    </tr>\n",
       "    <tr>\n",
       "      <th>3</th>\n",
       "      <td>4</td>\n",
       "      <td>MEGA SUPERFICIES</td>\n",
       "    </tr>\n",
       "    <tr>\n",
       "      <th>4</th>\n",
       "      <td>5</td>\n",
       "      <td>LAVATORY CARE &amp; BRC</td>\n",
       "    </tr>\n",
       "  </tbody>\n",
       "</table>\n",
       "</div>"
      ],
      "text/plain": [
       "   ID_CATEGORY                        CATEGORY\n",
       "0            1  FABRIC TREATMENT and SANIT\\r\\n\n",
       "1            2                       AIR CARE \n",
       "2            3                    LAVAVAJILLAS\n",
       "3            4                MEGA SUPERFICIES\n",
       "4            5             LAVATORY CARE & BRC"
      ]
     },
     "execution_count": 358,
     "metadata": {},
     "output_type": "execute_result"
    }
   ],
   "source": [
    "category.head()"
   ]
  },
  {
   "cell_type": "code",
   "execution_count": 359,
   "id": "7bf55b29",
   "metadata": {},
   "outputs": [
    {
     "name": "stdout",
     "output_type": "stream",
     "text": [
      "<class 'pandas.core.frame.DataFrame'>\n",
      "RangeIndex: 5 entries, 0 to 4\n",
      "Data columns (total 2 columns):\n",
      " #   Column       Non-Null Count  Dtype \n",
      "---  ------       --------------  ----- \n",
      " 0   ID_CATEGORY  5 non-null      int64 \n",
      " 1   CATEGORY     5 non-null      object\n",
      "dtypes: int64(1), object(1)\n",
      "memory usage: 212.0+ bytes\n"
     ]
    }
   ],
   "source": [
    "# Category: Describes the 5 product categories\n",
    "category.info()"
   ]
  },
  {
   "cell_type": "code",
   "execution_count": 360,
   "id": "5bc88aa7",
   "metadata": {},
   "outputs": [
    {
     "data": {
      "text/html": [
       "<div>\n",
       "<style scoped>\n",
       "    .dataframe tbody tr th:only-of-type {\n",
       "        vertical-align: middle;\n",
       "    }\n",
       "\n",
       "    .dataframe tbody tr th {\n",
       "        vertical-align: top;\n",
       "    }\n",
       "\n",
       "    .dataframe thead th {\n",
       "        text-align: right;\n",
       "    }\n",
       "</style>\n",
       "<table border=\"1\" class=\"dataframe\">\n",
       "  <thead>\n",
       "    <tr style=\"text-align: right;\">\n",
       "      <th></th>\n",
       "      <th>MANUFACTURER</th>\n",
       "      <th>BRAND</th>\n",
       "      <th>ITEM</th>\n",
       "      <th>ITEM_DESCRIPTION</th>\n",
       "      <th>CATEGORY</th>\n",
       "      <th>FORMAT</th>\n",
       "      <th>ATTR1</th>\n",
       "      <th>ATTR2</th>\n",
       "      <th>ATTR3</th>\n",
       "    </tr>\n",
       "  </thead>\n",
       "  <tbody>\n",
       "    <tr>\n",
       "      <th>0</th>\n",
       "      <td>INDS. ALEN</td>\n",
       "      <td>CLORALEX</td>\n",
       "      <td>0000075000592</td>\n",
       "      <td>CLORALEX EL RENDIDOR BOT.PLAST. 250ML NAL. 000...</td>\n",
       "      <td>1</td>\n",
       "      <td>LIQUIDO</td>\n",
       "      <td>CLORO</td>\n",
       "      <td>CLORO</td>\n",
       "      <td>NO DEFINIDO</td>\n",
       "    </tr>\n",
       "    <tr>\n",
       "      <th>1</th>\n",
       "      <td>INDS. ALEN</td>\n",
       "      <td>CLORALEX</td>\n",
       "      <td>0000075000608</td>\n",
       "      <td>CLORALEX EL RENDIDOR BOT.PLAST. 500ML NAL. 000...</td>\n",
       "      <td>1</td>\n",
       "      <td>LIQUIDO</td>\n",
       "      <td>CLORO</td>\n",
       "      <td>CLORO</td>\n",
       "      <td>NO DEFINIDO</td>\n",
       "    </tr>\n",
       "    <tr>\n",
       "      <th>2</th>\n",
       "      <td>INDS. ALEN</td>\n",
       "      <td>CLORALEX</td>\n",
       "      <td>0000075000615</td>\n",
       "      <td>CLORALEX EL RENDIDOR BOT.PLAST. 950ML NAL. 000...</td>\n",
       "      <td>1</td>\n",
       "      <td>LIQUIDO</td>\n",
       "      <td>CLORO</td>\n",
       "      <td>CLORO</td>\n",
       "      <td>NO DEFINIDO</td>\n",
       "    </tr>\n",
       "    <tr>\n",
       "      <th>3</th>\n",
       "      <td>INDS. ALEN</td>\n",
       "      <td>CLORALEX</td>\n",
       "      <td>0000075000622</td>\n",
       "      <td>CLORALEX EL RENDIDOR BOT.PLAST. 2000ML NAL 000...</td>\n",
       "      <td>1</td>\n",
       "      <td>LIQUIDO</td>\n",
       "      <td>CLORO</td>\n",
       "      <td>CLORO</td>\n",
       "      <td>NO DEFINIDO</td>\n",
       "    </tr>\n",
       "    <tr>\n",
       "      <th>4</th>\n",
       "      <td>INDS. ALEN</td>\n",
       "      <td>CLORALEX</td>\n",
       "      <td>0000075000639</td>\n",
       "      <td>CLORALEX EL RENDIDOR BOT.PLAST. 3750ML NAL 000...</td>\n",
       "      <td>1</td>\n",
       "      <td>LIQUIDO</td>\n",
       "      <td>CLORO</td>\n",
       "      <td>CLORO</td>\n",
       "      <td>NO DEFINIDO</td>\n",
       "    </tr>\n",
       "  </tbody>\n",
       "</table>\n",
       "</div>"
      ],
      "text/plain": [
       "  MANUFACTURER     BRAND           ITEM  \\\n",
       "0   INDS. ALEN  CLORALEX  0000075000592   \n",
       "1   INDS. ALEN  CLORALEX  0000075000608   \n",
       "2   INDS. ALEN  CLORALEX  0000075000615   \n",
       "3   INDS. ALEN  CLORALEX  0000075000622   \n",
       "4   INDS. ALEN  CLORALEX  0000075000639   \n",
       "\n",
       "                                    ITEM_DESCRIPTION  CATEGORY   FORMAT  \\\n",
       "0  CLORALEX EL RENDIDOR BOT.PLAST. 250ML NAL. 000...         1  LIQUIDO   \n",
       "1  CLORALEX EL RENDIDOR BOT.PLAST. 500ML NAL. 000...         1  LIQUIDO   \n",
       "2  CLORALEX EL RENDIDOR BOT.PLAST. 950ML NAL. 000...         1  LIQUIDO   \n",
       "3  CLORALEX EL RENDIDOR BOT.PLAST. 2000ML NAL 000...         1  LIQUIDO   \n",
       "4  CLORALEX EL RENDIDOR BOT.PLAST. 3750ML NAL 000...         1  LIQUIDO   \n",
       "\n",
       "   ATTR1  ATTR2        ATTR3  \n",
       "0  CLORO  CLORO  NO DEFINIDO  \n",
       "1  CLORO  CLORO  NO DEFINIDO  \n",
       "2  CLORO  CLORO  NO DEFINIDO  \n",
       "3  CLORO  CLORO  NO DEFINIDO  \n",
       "4  CLORO  CLORO  NO DEFINIDO  "
      ]
     },
     "execution_count": 360,
     "metadata": {},
     "output_type": "execute_result"
    }
   ],
   "source": [
    "# Product: Describes the individual products available\n",
    "product.head()"
   ]
  },
  {
   "cell_type": "code",
   "execution_count": 361,
   "id": "22a58cf7",
   "metadata": {},
   "outputs": [
    {
     "name": "stdout",
     "output_type": "stream",
     "text": [
      "<class 'pandas.core.frame.DataFrame'>\n",
      "RangeIndex: 505 entries, 0 to 504\n",
      "Data columns (total 9 columns):\n",
      " #   Column            Non-Null Count  Dtype \n",
      "---  ------            --------------  ----- \n",
      " 0   MANUFACTURER      505 non-null    object\n",
      " 1   BRAND             505 non-null    object\n",
      " 2   ITEM              503 non-null    object\n",
      " 3   ITEM_DESCRIPTION  505 non-null    object\n",
      " 4   CATEGORY          505 non-null    int64 \n",
      " 5   FORMAT            505 non-null    object\n",
      " 6   ATTR1             499 non-null    object\n",
      " 7   ATTR2             505 non-null    object\n",
      " 8   ATTR3             499 non-null    object\n",
      "dtypes: int64(1), object(8)\n",
      "memory usage: 35.6+ KB\n"
     ]
    }
   ],
   "source": [
    "product.info()"
   ]
  },
  {
   "cell_type": "code",
   "execution_count": 362,
   "id": "6da8985d",
   "metadata": {},
   "outputs": [
    {
     "data": {
      "text/html": [
       "<div>\n",
       "<style scoped>\n",
       "    .dataframe tbody tr th:only-of-type {\n",
       "        vertical-align: middle;\n",
       "    }\n",
       "\n",
       "    .dataframe tbody tr th {\n",
       "        vertical-align: top;\n",
       "    }\n",
       "\n",
       "    .dataframe thead th {\n",
       "        text-align: right;\n",
       "    }\n",
       "</style>\n",
       "<table border=\"1\" class=\"dataframe\">\n",
       "  <thead>\n",
       "    <tr style=\"text-align: right;\">\n",
       "      <th></th>\n",
       "      <th>CATEGORY</th>\n",
       "      <th>ATTR1</th>\n",
       "      <th>ATTR2</th>\n",
       "      <th>ATTR3</th>\n",
       "      <th>FORMAT</th>\n",
       "      <th>SEGMENT</th>\n",
       "    </tr>\n",
       "  </thead>\n",
       "  <tbody>\n",
       "    <tr>\n",
       "      <th>0</th>\n",
       "      <td>1</td>\n",
       "      <td>CLORO</td>\n",
       "      <td>CLORO</td>\n",
       "      <td>BAMBINO</td>\n",
       "      <td>LIQUIDO</td>\n",
       "      <td>BLEACH</td>\n",
       "    </tr>\n",
       "    <tr>\n",
       "      <th>1</th>\n",
       "      <td>1</td>\n",
       "      <td>CLORO</td>\n",
       "      <td>CLORO</td>\n",
       "      <td>GERMICIDA</td>\n",
       "      <td>LIQUIDO</td>\n",
       "      <td>BLEACH</td>\n",
       "    </tr>\n",
       "    <tr>\n",
       "      <th>2</th>\n",
       "      <td>1</td>\n",
       "      <td>CLORO</td>\n",
       "      <td>CLORO</td>\n",
       "      <td>MASCOTAS</td>\n",
       "      <td>LIQUIDO</td>\n",
       "      <td>BLEACH</td>\n",
       "    </tr>\n",
       "    <tr>\n",
       "      <th>3</th>\n",
       "      <td>1</td>\n",
       "      <td>CLORO</td>\n",
       "      <td>CLORO</td>\n",
       "      <td>MULTIUSOS</td>\n",
       "      <td>GEL</td>\n",
       "      <td>BLEACH</td>\n",
       "    </tr>\n",
       "    <tr>\n",
       "      <th>4</th>\n",
       "      <td>1</td>\n",
       "      <td>CLORO</td>\n",
       "      <td>CLORO</td>\n",
       "      <td>MULTIUSOS</td>\n",
       "      <td>LIQUIDO</td>\n",
       "      <td>BLEACH</td>\n",
       "    </tr>\n",
       "  </tbody>\n",
       "</table>\n",
       "</div>"
      ],
      "text/plain": [
       "   CATEGORY  ATTR1  ATTR2      ATTR3   FORMAT SEGMENT\n",
       "0         1  CLORO  CLORO    BAMBINO  LIQUIDO  BLEACH\n",
       "1         1  CLORO  CLORO  GERMICIDA  LIQUIDO  BLEACH\n",
       "2         1  CLORO  CLORO   MASCOTAS  LIQUIDO  BLEACH\n",
       "3         1  CLORO  CLORO  MULTIUSOS      GEL  BLEACH\n",
       "4         1  CLORO  CLORO  MULTIUSOS  LIQUIDO  BLEACH"
      ]
     },
     "execution_count": 362,
     "metadata": {},
     "output_type": "execute_result"
    }
   ],
   "source": [
    "# Segment: Defines categorical groupings\n",
    "segment.head()"
   ]
  },
  {
   "cell_type": "code",
   "execution_count": 363,
   "id": "580e45bc",
   "metadata": {},
   "outputs": [
    {
     "name": "stdout",
     "output_type": "stream",
     "text": [
      "<class 'pandas.core.frame.DataFrame'>\n",
      "RangeIndex: 53 entries, 0 to 52\n",
      "Data columns (total 6 columns):\n",
      " #   Column    Non-Null Count  Dtype \n",
      "---  ------    --------------  ----- \n",
      " 0   CATEGORY  53 non-null     int64 \n",
      " 1   ATTR1     53 non-null     object\n",
      " 2   ATTR2     53 non-null     object\n",
      " 3   ATTR3     52 non-null     object\n",
      " 4   FORMAT    53 non-null     object\n",
      " 5   SEGMENT   53 non-null     object\n",
      "dtypes: int64(1), object(5)\n",
      "memory usage: 2.6+ KB\n"
     ]
    }
   ],
   "source": [
    "segment.info()"
   ]
  },
  {
   "cell_type": "code",
   "execution_count": 364,
   "id": "4f8ddf63",
   "metadata": {},
   "outputs": [
    {
     "data": {
      "text/html": [
       "<div>\n",
       "<style scoped>\n",
       "    .dataframe tbody tr th:only-of-type {\n",
       "        vertical-align: middle;\n",
       "    }\n",
       "\n",
       "    .dataframe tbody tr th {\n",
       "        vertical-align: top;\n",
       "    }\n",
       "\n",
       "    .dataframe thead th {\n",
       "        text-align: right;\n",
       "    }\n",
       "</style>\n",
       "<table border=\"1\" class=\"dataframe\">\n",
       "  <thead>\n",
       "    <tr style=\"text-align: right;\">\n",
       "      <th></th>\n",
       "      <th>WEEK</th>\n",
       "      <th>ITEM_CODE</th>\n",
       "      <th>TOTAL_UNIT_SALES</th>\n",
       "      <th>TOTAL_VALUE_SALES</th>\n",
       "      <th>TOTAL_UNIT_AVG_WEEKLY_SALES</th>\n",
       "      <th>REGION</th>\n",
       "    </tr>\n",
       "  </thead>\n",
       "  <tbody>\n",
       "    <tr>\n",
       "      <th>0</th>\n",
       "      <td>34-22</td>\n",
       "      <td>7501058792808BP2</td>\n",
       "      <td>0.006</td>\n",
       "      <td>0.139</td>\n",
       "      <td>1.000</td>\n",
       "      <td>TOTAL AUTOS AREA 5</td>\n",
       "    </tr>\n",
       "    <tr>\n",
       "      <th>1</th>\n",
       "      <td>34-22</td>\n",
       "      <td>7501058715883</td>\n",
       "      <td>0.487</td>\n",
       "      <td>116.519</td>\n",
       "      <td>2.916</td>\n",
       "      <td>TOTAL AUTOS AREA 5</td>\n",
       "    </tr>\n",
       "    <tr>\n",
       "      <th>2</th>\n",
       "      <td>34-22</td>\n",
       "      <td>7702626213774</td>\n",
       "      <td>1.391</td>\n",
       "      <td>68.453</td>\n",
       "      <td>5.171</td>\n",
       "      <td>TOTAL AUTOS AREA 5</td>\n",
       "    </tr>\n",
       "    <tr>\n",
       "      <th>3</th>\n",
       "      <td>34-22</td>\n",
       "      <td>7501058716422</td>\n",
       "      <td>0.022</td>\n",
       "      <td>1.481</td>\n",
       "      <td>1.833</td>\n",
       "      <td>TOTAL AUTOS AREA 5</td>\n",
       "    </tr>\n",
       "    <tr>\n",
       "      <th>4</th>\n",
       "      <td>34-22</td>\n",
       "      <td>7501058784353</td>\n",
       "      <td>2.037</td>\n",
       "      <td>182.839</td>\n",
       "      <td>5.375</td>\n",
       "      <td>TOTAL AUTOS AREA 5</td>\n",
       "    </tr>\n",
       "  </tbody>\n",
       "</table>\n",
       "</div>"
      ],
      "text/plain": [
       "    WEEK         ITEM_CODE  TOTAL_UNIT_SALES  TOTAL_VALUE_SALES  \\\n",
       "0  34-22  7501058792808BP2             0.006              0.139   \n",
       "1  34-22     7501058715883             0.487            116.519   \n",
       "2  34-22     7702626213774             1.391             68.453   \n",
       "3  34-22     7501058716422             0.022              1.481   \n",
       "4  34-22     7501058784353             2.037            182.839   \n",
       "\n",
       "   TOTAL_UNIT_AVG_WEEKLY_SALES              REGION  \n",
       "0                        1.000  TOTAL AUTOS AREA 5  \n",
       "1                        2.916  TOTAL AUTOS AREA 5  \n",
       "2                        5.171  TOTAL AUTOS AREA 5  \n",
       "3                        1.833  TOTAL AUTOS AREA 5  \n",
       "4                        5.375  TOTAL AUTOS AREA 5  "
      ]
     },
     "execution_count": 364,
     "metadata": {},
     "output_type": "execute_result"
    }
   ],
   "source": [
    "# Sales: Defines actual sales history by week\n",
    "sales.head()"
   ]
  },
  {
   "cell_type": "code",
   "execution_count": 365,
   "id": "80c807b5",
   "metadata": {},
   "outputs": [
    {
     "name": "stdout",
     "output_type": "stream",
     "text": [
      "<class 'pandas.core.frame.DataFrame'>\n",
      "RangeIndex: 122002 entries, 0 to 122001\n",
      "Data columns (total 6 columns):\n",
      " #   Column                       Non-Null Count   Dtype  \n",
      "---  ------                       --------------   -----  \n",
      " 0   WEEK                         122002 non-null  object \n",
      " 1   ITEM_CODE                    122002 non-null  object \n",
      " 2   TOTAL_UNIT_SALES             122002 non-null  float64\n",
      " 3   TOTAL_VALUE_SALES            122002 non-null  float64\n",
      " 4   TOTAL_UNIT_AVG_WEEKLY_SALES  122002 non-null  float64\n",
      " 5   REGION                       122002 non-null  object \n",
      "dtypes: float64(3), object(3)\n",
      "memory usage: 5.6+ MB\n"
     ]
    }
   ],
   "source": [
    "sales.info()"
   ]
  },
  {
   "cell_type": "code",
   "execution_count": 366,
   "id": "5eda0ced",
   "metadata": {},
   "outputs": [
    {
     "data": {
      "text/html": [
       "<div>\n",
       "<style scoped>\n",
       "    .dataframe tbody tr th:only-of-type {\n",
       "        vertical-align: middle;\n",
       "    }\n",
       "\n",
       "    .dataframe tbody tr th {\n",
       "        vertical-align: top;\n",
       "    }\n",
       "\n",
       "    .dataframe thead th {\n",
       "        text-align: right;\n",
       "    }\n",
       "</style>\n",
       "<table border=\"1\" class=\"dataframe\">\n",
       "  <thead>\n",
       "    <tr style=\"text-align: right;\">\n",
       "      <th></th>\n",
       "      <th>TOTAL_UNIT_SALES</th>\n",
       "      <th>TOTAL_VALUE_SALES</th>\n",
       "      <th>TOTAL_UNIT_AVG_WEEKLY_SALES</th>\n",
       "    </tr>\n",
       "  </thead>\n",
       "  <tbody>\n",
       "    <tr>\n",
       "      <th>count</th>\n",
       "      <td>122002.000000</td>\n",
       "      <td>122002.000000</td>\n",
       "      <td>122002.000000</td>\n",
       "    </tr>\n",
       "    <tr>\n",
       "      <th>mean</th>\n",
       "      <td>3.211097</td>\n",
       "      <td>90.513761</td>\n",
       "      <td>10.099904</td>\n",
       "    </tr>\n",
       "    <tr>\n",
       "      <th>std</th>\n",
       "      <td>14.496009</td>\n",
       "      <td>350.236505</td>\n",
       "      <td>22.650142</td>\n",
       "    </tr>\n",
       "    <tr>\n",
       "      <th>min</th>\n",
       "      <td>0.000000</td>\n",
       "      <td>0.001000</td>\n",
       "      <td>0.042000</td>\n",
       "    </tr>\n",
       "    <tr>\n",
       "      <th>25%</th>\n",
       "      <td>0.063000</td>\n",
       "      <td>2.662000</td>\n",
       "      <td>2.316000</td>\n",
       "    </tr>\n",
       "    <tr>\n",
       "      <th>50%</th>\n",
       "      <td>0.367000</td>\n",
       "      <td>16.812000</td>\n",
       "      <td>3.993500</td>\n",
       "    </tr>\n",
       "    <tr>\n",
       "      <th>75%</th>\n",
       "      <td>1.520000</td>\n",
       "      <td>62.961500</td>\n",
       "      <td>8.898000</td>\n",
       "    </tr>\n",
       "    <tr>\n",
       "      <th>max</th>\n",
       "      <td>504.681000</td>\n",
       "      <td>12236.759000</td>\n",
       "      <td>794.000000</td>\n",
       "    </tr>\n",
       "  </tbody>\n",
       "</table>\n",
       "</div>"
      ],
      "text/plain": [
       "       TOTAL_UNIT_SALES  TOTAL_VALUE_SALES  TOTAL_UNIT_AVG_WEEKLY_SALES\n",
       "count     122002.000000      122002.000000                122002.000000\n",
       "mean           3.211097          90.513761                    10.099904\n",
       "std           14.496009         350.236505                    22.650142\n",
       "min            0.000000           0.001000                     0.042000\n",
       "25%            0.063000           2.662000                     2.316000\n",
       "50%            0.367000          16.812000                     3.993500\n",
       "75%            1.520000          62.961500                     8.898000\n",
       "max          504.681000       12236.759000                   794.000000"
      ]
     },
     "execution_count": 366,
     "metadata": {},
     "output_type": "execute_result"
    }
   ],
   "source": [
    "sales.describe()"
   ]
  },
  {
   "cell_type": "markdown",
   "id": "ada2fc5a",
   "metadata": {},
   "source": [
    "### Data Cleaning\n",
    "#### CALENDAR DAtaset"
   ]
  },
  {
   "cell_type": "code",
   "execution_count": 367,
   "id": "9606d140",
   "metadata": {},
   "outputs": [
    {
     "name": "stdout",
     "output_type": "stream",
     "text": [
      "Date Duplicates:  False    156\n",
      "Name: count, dtype: int64\n",
      "Week Duplicates:  False    156\n",
      "Name: count, dtype: int64\n"
     ]
    }
   ],
   "source": [
    "# Check for duplicate values\n",
    "print(\"Date Duplicates: \", calendar.duplicated(['DATE']).value_counts())\n",
    "print(\"Week Duplicates: \", calendar.duplicated(['WEEK']).value_counts())"
   ]
  },
  {
   "cell_type": "code",
   "execution_count": 368,
   "id": "7ec95526",
   "metadata": {},
   "outputs": [
    {
     "name": "stdout",
     "output_type": "stream",
     "text": [
      "No invalid weeks\n"
     ]
    }
   ],
   "source": [
    "# Ensure standardization on WEEK - Should be XX-XX format\n",
    "\n",
    "# Define patter w/ regex\n",
    "pattern = r'^\\d{2}-\\d{2}$'\n",
    "invalid_weeks = ~calendar['WEEK'].astype(str).str.match(pattern)\n",
    "\n",
    "# Check invalid weeks, if any\n",
    "if invalid_weeks.any():\n",
    "    print(calendar[invalid_weeks])\n",
    "else:\n",
    "    print(\"No invalid weeks\")"
   ]
  },
  {
   "cell_type": "code",
   "execution_count": 369,
   "id": "b22d350e",
   "metadata": {},
   "outputs": [
    {
     "name": "stdout",
     "output_type": "stream",
     "text": [
      "First week is a Sunday\n",
      "Dates are NOT consistent.\n"
     ]
    }
   ],
   "source": [
    "# Validate that DATE values are always on the same day of the week\n",
    "\n",
    "# Get the day of the week for the first week in the calendar\n",
    "day_of_the_week = calendar.loc[0, 'DATE'].day_name()\n",
    "print(f\"First week is a {day_of_the_week}\")\n",
    "\n",
    "# Check that all the days of the week match for the remaining weeks\n",
    "date_condition = calendar['DATE'].dt.day_name() == day_of_the_week\n",
    "if all(date_condition):\n",
    "    print(f\"All dates are {day_of_the_week}s\")\n",
    "else:\n",
    "    print(\"Dates are NOT consistent.\")\n"
   ]
  },
  {
   "cell_type": "code",
   "execution_count": 370,
   "id": "28d425a9",
   "metadata": {},
   "outputs": [
    {
     "data": {
      "text/plain": [
       "weekday\n",
       "6    104\n",
       "0     52\n",
       "Name: count, dtype: int64"
      ]
     },
     "execution_count": 370,
     "metadata": {},
     "output_type": "execute_result"
    }
   ],
   "source": [
    "# Diagnose the day of the week inconsistencies\n",
    "\n",
    "# Check each weekday for the dates (0=Monday, 6=Sunday)\n",
    "calendar['weekday'] = calendar['DATE'].dt.weekday\n",
    "calendar['weekday'].value_counts()"
   ]
  },
  {
   "cell_type": "code",
   "execution_count": 371,
   "id": "e17b7a10",
   "metadata": {},
   "outputs": [],
   "source": [
    "# Standardize the DATE anchor from Sunday to Monday\n",
    "calendar.loc[calendar['DATE'].dt.weekday == 6, 'DATE'] += pd.Timedelta(days=1)"
   ]
  },
  {
   "cell_type": "code",
   "execution_count": 372,
   "id": "13b5d518",
   "metadata": {},
   "outputs": [
    {
     "data": {
      "text/html": [
       "<div>\n",
       "<style scoped>\n",
       "    .dataframe tbody tr th:only-of-type {\n",
       "        vertical-align: middle;\n",
       "    }\n",
       "\n",
       "    .dataframe tbody tr th {\n",
       "        vertical-align: top;\n",
       "    }\n",
       "\n",
       "    .dataframe thead th {\n",
       "        text-align: right;\n",
       "    }\n",
       "</style>\n",
       "<table border=\"1\" class=\"dataframe\">\n",
       "  <thead>\n",
       "    <tr style=\"text-align: right;\">\n",
       "      <th></th>\n",
       "      <th>WEEK</th>\n",
       "      <th>YEAR</th>\n",
       "      <th>MONTH</th>\n",
       "      <th>WEEK_NUMBER</th>\n",
       "      <th>DATE</th>\n",
       "    </tr>\n",
       "  </thead>\n",
       "  <tbody>\n",
       "    <tr>\n",
       "      <th>0</th>\n",
       "      <td>01-21</td>\n",
       "      <td>2021</td>\n",
       "      <td>1</td>\n",
       "      <td>1</td>\n",
       "      <td>2021-01-11</td>\n",
       "    </tr>\n",
       "    <tr>\n",
       "      <th>1</th>\n",
       "      <td>02-21</td>\n",
       "      <td>2021</td>\n",
       "      <td>1</td>\n",
       "      <td>2</td>\n",
       "      <td>2021-01-18</td>\n",
       "    </tr>\n",
       "    <tr>\n",
       "      <th>2</th>\n",
       "      <td>03-21</td>\n",
       "      <td>2021</td>\n",
       "      <td>1</td>\n",
       "      <td>3</td>\n",
       "      <td>2021-01-25</td>\n",
       "    </tr>\n",
       "    <tr>\n",
       "      <th>3</th>\n",
       "      <td>04-21</td>\n",
       "      <td>2021</td>\n",
       "      <td>1</td>\n",
       "      <td>4</td>\n",
       "      <td>2021-02-01</td>\n",
       "    </tr>\n",
       "    <tr>\n",
       "      <th>4</th>\n",
       "      <td>05-21</td>\n",
       "      <td>2021</td>\n",
       "      <td>2</td>\n",
       "      <td>5</td>\n",
       "      <td>2021-02-08</td>\n",
       "    </tr>\n",
       "  </tbody>\n",
       "</table>\n",
       "</div>"
      ],
      "text/plain": [
       "    WEEK  YEAR  MONTH  WEEK_NUMBER       DATE\n",
       "0  01-21  2021      1            1 2021-01-11\n",
       "1  02-21  2021      1            2 2021-01-18\n",
       "2  03-21  2021      1            3 2021-01-25\n",
       "3  04-21  2021      1            4 2021-02-01\n",
       "4  05-21  2021      2            5 2021-02-08"
      ]
     },
     "execution_count": 372,
     "metadata": {},
     "output_type": "execute_result"
    }
   ],
   "source": [
    "# Drop weekday column\n",
    "calendar.drop(columns=[\"weekday\"], inplace=True)\n",
    "\n",
    "# Verify changes\n",
    "calendar.head()"
   ]
  },
  {
   "cell_type": "code",
   "execution_count": 373,
   "id": "24907734",
   "metadata": {},
   "outputs": [
    {
     "data": {
      "text/html": [
       "<div>\n",
       "<style scoped>\n",
       "    .dataframe tbody tr th:only-of-type {\n",
       "        vertical-align: middle;\n",
       "    }\n",
       "\n",
       "    .dataframe tbody tr th {\n",
       "        vertical-align: top;\n",
       "    }\n",
       "\n",
       "    .dataframe thead th {\n",
       "        text-align: right;\n",
       "    }\n",
       "</style>\n",
       "<table border=\"1\" class=\"dataframe\">\n",
       "  <thead>\n",
       "    <tr style=\"text-align: right;\">\n",
       "      <th></th>\n",
       "      <th>WEEK</th>\n",
       "      <th>YEAR</th>\n",
       "      <th>MONTH</th>\n",
       "      <th>WEEK_NUMBER</th>\n",
       "      <th>DATE</th>\n",
       "    </tr>\n",
       "  </thead>\n",
       "  <tbody>\n",
       "    <tr>\n",
       "      <th>0</th>\n",
       "      <td>01-21</td>\n",
       "      <td>2021</td>\n",
       "      <td>1</td>\n",
       "      <td>1</td>\n",
       "      <td>2021-01-11</td>\n",
       "    </tr>\n",
       "    <tr>\n",
       "      <th>1</th>\n",
       "      <td>02-21</td>\n",
       "      <td>2021</td>\n",
       "      <td>1</td>\n",
       "      <td>2</td>\n",
       "      <td>2021-01-18</td>\n",
       "    </tr>\n",
       "    <tr>\n",
       "      <th>2</th>\n",
       "      <td>03-21</td>\n",
       "      <td>2021</td>\n",
       "      <td>1</td>\n",
       "      <td>3</td>\n",
       "      <td>2021-01-25</td>\n",
       "    </tr>\n",
       "    <tr>\n",
       "      <th>3</th>\n",
       "      <td>04-21</td>\n",
       "      <td>2021</td>\n",
       "      <td>1</td>\n",
       "      <td>4</td>\n",
       "      <td>2021-02-01</td>\n",
       "    </tr>\n",
       "    <tr>\n",
       "      <th>52</th>\n",
       "      <td>01-22</td>\n",
       "      <td>2022</td>\n",
       "      <td>1</td>\n",
       "      <td>1</td>\n",
       "      <td>2022-01-10</td>\n",
       "    </tr>\n",
       "    <tr>\n",
       "      <th>53</th>\n",
       "      <td>02-22</td>\n",
       "      <td>2022</td>\n",
       "      <td>1</td>\n",
       "      <td>2</td>\n",
       "      <td>2022-01-17</td>\n",
       "    </tr>\n",
       "    <tr>\n",
       "      <th>54</th>\n",
       "      <td>03-22</td>\n",
       "      <td>2022</td>\n",
       "      <td>1</td>\n",
       "      <td>3</td>\n",
       "      <td>2022-01-24</td>\n",
       "    </tr>\n",
       "    <tr>\n",
       "      <th>55</th>\n",
       "      <td>04-22</td>\n",
       "      <td>2022</td>\n",
       "      <td>1</td>\n",
       "      <td>4</td>\n",
       "      <td>2022-01-31</td>\n",
       "    </tr>\n",
       "    <tr>\n",
       "      <th>103</th>\n",
       "      <td>52-22</td>\n",
       "      <td>2022</td>\n",
       "      <td>1</td>\n",
       "      <td>52</td>\n",
       "      <td>2023-01-02</td>\n",
       "    </tr>\n",
       "    <tr>\n",
       "      <th>104</th>\n",
       "      <td>01-23</td>\n",
       "      <td>2023</td>\n",
       "      <td>1</td>\n",
       "      <td>1</td>\n",
       "      <td>2023-01-09</td>\n",
       "    </tr>\n",
       "    <tr>\n",
       "      <th>105</th>\n",
       "      <td>02-23</td>\n",
       "      <td>2023</td>\n",
       "      <td>1</td>\n",
       "      <td>2</td>\n",
       "      <td>2023-01-16</td>\n",
       "    </tr>\n",
       "    <tr>\n",
       "      <th>106</th>\n",
       "      <td>03-23</td>\n",
       "      <td>2023</td>\n",
       "      <td>1</td>\n",
       "      <td>3</td>\n",
       "      <td>2023-01-23</td>\n",
       "    </tr>\n",
       "    <tr>\n",
       "      <th>107</th>\n",
       "      <td>04-23</td>\n",
       "      <td>2023</td>\n",
       "      <td>1</td>\n",
       "      <td>4</td>\n",
       "      <td>2023-01-30</td>\n",
       "    </tr>\n",
       "    <tr>\n",
       "      <th>155</th>\n",
       "      <td>52-23</td>\n",
       "      <td>2023</td>\n",
       "      <td>1</td>\n",
       "      <td>52</td>\n",
       "      <td>2024-01-01</td>\n",
       "    </tr>\n",
       "  </tbody>\n",
       "</table>\n",
       "</div>"
      ],
      "text/plain": [
       "      WEEK  YEAR  MONTH  WEEK_NUMBER       DATE\n",
       "0    01-21  2021      1            1 2021-01-11\n",
       "1    02-21  2021      1            2 2021-01-18\n",
       "2    03-21  2021      1            3 2021-01-25\n",
       "3    04-21  2021      1            4 2021-02-01\n",
       "52   01-22  2022      1            1 2022-01-10\n",
       "53   02-22  2022      1            2 2022-01-17\n",
       "54   03-22  2022      1            3 2022-01-24\n",
       "55   04-22  2022      1            4 2022-01-31\n",
       "103  52-22  2022      1           52 2023-01-02\n",
       "104  01-23  2023      1            1 2023-01-09\n",
       "105  02-23  2023      1            2 2023-01-16\n",
       "106  03-23  2023      1            3 2023-01-23\n",
       "107  04-23  2023      1            4 2023-01-30\n",
       "155  52-23  2023      1           52 2024-01-01"
      ]
     },
     "execution_count": 373,
     "metadata": {},
     "output_type": "execute_result"
    }
   ],
   "source": [
    "# Validate that WEEK_NUMBER resets to 1 every January\n",
    "\n",
    "# Filter for the weeks in January\n",
    "jan_weeks = calendar[calendar['MONTH'] == 1]\n",
    "jan_weeks\n"
   ]
  },
  {
   "cell_type": "code",
   "execution_count": 374,
   "id": "2958e8ee",
   "metadata": {},
   "outputs": [
    {
     "name": "stdout",
     "output_type": "stream",
     "text": [
      "No invalid weeks\n",
      "No invalid weeks\n",
      "No invalid weeks\n"
     ]
    }
   ],
   "source": [
    "# Validate that weeks increase sequentially\n",
    "for year, group in calendar.groupby('YEAR'):\n",
    "    diffs = group['WEEK_NUMBER'].diff().dropna()\n",
    "    invalid_weeks = group.iloc[1:][diffs != 1]\n",
    "\n",
    "    if not invalid_weeks.empty:\n",
    "        print(f\"Problem: {invalid_weeks}\")\n",
    "    else:\n",
    "        print(\"No invalid weeks\")"
   ]
  },
  {
   "cell_type": "code",
   "execution_count": 375,
   "id": "249c00a9",
   "metadata": {},
   "outputs": [
    {
     "name": "stdout",
     "output_type": "stream",
     "text": [
      "No missing weeks\n"
     ]
    }
   ],
   "source": [
    "# Validate that there are no missing weeks between the min and max weeks\n",
    "\n",
    "# Compare generated data to calendar\n",
    "expected_weeks = pd.date_range(\n",
    "    start=calendar['DATE'].min(),\n",
    "    end=calendar['DATE'].max(),\n",
    "    freq='W-MON'\n",
    ")\n",
    "actual_weeks = calendar['DATE'].sort_values()\n",
    "missing = expected_weeks.difference(actual_weeks)\n",
    "if missing.empty:\n",
    "    print(\"No missing weeks\")\n",
    "else:\n",
    "    print(f\"Missing: {missing}\")"
   ]
  },
  {
   "cell_type": "markdown",
   "id": "79d55c6a",
   "metadata": {},
   "source": [
    "#### CATEGORY Dataset"
   ]
  },
  {
   "cell_type": "code",
   "execution_count": 376,
   "id": "7ad4f28c",
   "metadata": {},
   "outputs": [
    {
     "data": {
      "text/html": [
       "<div>\n",
       "<style scoped>\n",
       "    .dataframe tbody tr th:only-of-type {\n",
       "        vertical-align: middle;\n",
       "    }\n",
       "\n",
       "    .dataframe tbody tr th {\n",
       "        vertical-align: top;\n",
       "    }\n",
       "\n",
       "    .dataframe thead th {\n",
       "        text-align: right;\n",
       "    }\n",
       "</style>\n",
       "<table border=\"1\" class=\"dataframe\">\n",
       "  <thead>\n",
       "    <tr style=\"text-align: right;\">\n",
       "      <th></th>\n",
       "      <th>ID_CATEGORY</th>\n",
       "      <th>CATEGORY</th>\n",
       "    </tr>\n",
       "  </thead>\n",
       "  <tbody>\n",
       "    <tr>\n",
       "      <th>0</th>\n",
       "      <td>1</td>\n",
       "      <td>FABRIC TREATMENT &amp; SANITIZERS</td>\n",
       "    </tr>\n",
       "    <tr>\n",
       "      <th>1</th>\n",
       "      <td>2</td>\n",
       "      <td>AIR CARE</td>\n",
       "    </tr>\n",
       "    <tr>\n",
       "      <th>2</th>\n",
       "      <td>3</td>\n",
       "      <td>DISHWASHING</td>\n",
       "    </tr>\n",
       "    <tr>\n",
       "      <th>3</th>\n",
       "      <td>4</td>\n",
       "      <td>SURFACE CLEANERS</td>\n",
       "    </tr>\n",
       "    <tr>\n",
       "      <th>4</th>\n",
       "      <td>5</td>\n",
       "      <td>LAVATORY CARE &amp; BRC</td>\n",
       "    </tr>\n",
       "  </tbody>\n",
       "</table>\n",
       "</div>"
      ],
      "text/plain": [
       "   ID_CATEGORY                       CATEGORY\n",
       "0            1  FABRIC TREATMENT & SANITIZERS\n",
       "1            2                       AIR CARE\n",
       "2            3                    DISHWASHING\n",
       "3            4               SURFACE CLEANERS\n",
       "4            5            LAVATORY CARE & BRC"
      ]
     },
     "execution_count": 376,
     "metadata": {},
     "output_type": "execute_result"
    }
   ],
   "source": [
    "# Strip whitespace\n",
    "category['CATEGORY'] = category['CATEGORY'].astype(str).str.strip().str.upper().str.replace(r'\\s+', ' ', regex=True)\n",
    "\n",
    "# Category names are inconsistent Spanish/English \n",
    "#    Reassign names to normalize\n",
    "category['CATEGORY'] = category['CATEGORY'].replace({\n",
    "    \"FABRIC TREATMENT AND SANIT\": \"FABRIC TREATMENT & SANITIZERS\",\n",
    "    \"LAVAVAJILLAS\": \"DISHWASHING\",\n",
    "    \"MEGA SUPERFICIES\": \"SURFACE CLEANERS\"\n",
    "})\n",
    "category"
   ]
  },
  {
   "cell_type": "markdown",
   "id": "d8a82230",
   "metadata": {},
   "source": [
    "#### PRODUCT Dataset"
   ]
  },
  {
   "cell_type": "code",
   "execution_count": 377,
   "id": "2a0cd185",
   "metadata": {},
   "outputs": [
    {
     "data": {
      "text/plain": [
       "MANUFACTURER        0\n",
       "BRAND               0\n",
       "ITEM                2\n",
       "ITEM_DESCRIPTION    0\n",
       "CATEGORY            0\n",
       "FORMAT              0\n",
       "ATTR1               0\n",
       "ATTR2               0\n",
       "ATTR3               0\n",
       "dtype: int64"
      ]
     },
     "execution_count": 377,
     "metadata": {},
     "output_type": "execute_result"
    }
   ],
   "source": [
    "# Missing value handling\n",
    "cols = product[[\"ATTR1\",\n",
    "               \"ATTR2\",\n",
    "               \"ATTR3\"]]\n",
    "# Fill undefined attributes\n",
    "for col in cols:\n",
    "    product[col] = product[col].fillna('UNDEFINED')\n",
    "\n",
    "product.isnull().sum()"
   ]
  },
  {
   "cell_type": "code",
   "execution_count": 378,
   "id": "6c564a18",
   "metadata": {},
   "outputs": [
    {
     "data": {
      "text/html": [
       "<div>\n",
       "<style scoped>\n",
       "    .dataframe tbody tr th:only-of-type {\n",
       "        vertical-align: middle;\n",
       "    }\n",
       "\n",
       "    .dataframe tbody tr th {\n",
       "        vertical-align: top;\n",
       "    }\n",
       "\n",
       "    .dataframe thead th {\n",
       "        text-align: right;\n",
       "    }\n",
       "</style>\n",
       "<table border=\"1\" class=\"dataframe\">\n",
       "  <thead>\n",
       "    <tr style=\"text-align: right;\">\n",
       "      <th></th>\n",
       "      <th>MANUFACTURER</th>\n",
       "      <th>BRAND</th>\n",
       "      <th>ITEM</th>\n",
       "      <th>ITEM_DESCRIPTION</th>\n",
       "      <th>CATEGORY</th>\n",
       "      <th>FORMAT</th>\n",
       "      <th>ATTR1</th>\n",
       "      <th>ATTR2</th>\n",
       "      <th>ATTR3</th>\n",
       "    </tr>\n",
       "  </thead>\n",
       "  <tbody>\n",
       "    <tr>\n",
       "      <th>502</th>\n",
       "      <td>INDS. ALEN</td>\n",
       "      <td>CLORALEX</td>\n",
       "      <td>NaN</td>\n",
       "      <td>CLORALEX EL RENDIDOR BOT PLAST 2LT</td>\n",
       "      <td>1</td>\n",
       "      <td>LIQUIDO</td>\n",
       "      <td>CLORO</td>\n",
       "      <td>CLORO</td>\n",
       "      <td>NO DEFINIDO</td>\n",
       "    </tr>\n",
       "    <tr>\n",
       "      <th>503</th>\n",
       "      <td>CLOROX</td>\n",
       "      <td>CLOROX</td>\n",
       "      <td>NaN</td>\n",
       "      <td>CLOROX MASCOTAS BLANQUEADOR+DETERGENTE GALON 10L</td>\n",
       "      <td>1</td>\n",
       "      <td>LIQUIDO</td>\n",
       "      <td>CLORO</td>\n",
       "      <td>CLORO</td>\n",
       "      <td>MASCOTAS</td>\n",
       "    </tr>\n",
       "  </tbody>\n",
       "</table>\n",
       "</div>"
      ],
      "text/plain": [
       "    MANUFACTURER     BRAND ITEM  \\\n",
       "502   INDS. ALEN  CLORALEX  NaN   \n",
       "503       CLOROX    CLOROX  NaN   \n",
       "\n",
       "                                     ITEM_DESCRIPTION  CATEGORY   FORMAT  \\\n",
       "502                CLORALEX EL RENDIDOR BOT PLAST 2LT         1  LIQUIDO   \n",
       "503  CLOROX MASCOTAS BLANQUEADOR+DETERGENTE GALON 10L         1  LIQUIDO   \n",
       "\n",
       "     ATTR1  ATTR2        ATTR3  \n",
       "502  CLORO  CLORO  NO DEFINIDO  \n",
       "503  CLORO  CLORO     MASCOTAS  "
      ]
     },
     "execution_count": 378,
     "metadata": {},
     "output_type": "execute_result"
    }
   ],
   "source": [
    "# Investigate missing values in ITEM\n",
    "product[product['ITEM'].isnull()]"
   ]
  },
  {
   "cell_type": "code",
   "execution_count": 379,
   "id": "788da855",
   "metadata": {},
   "outputs": [],
   "source": [
    "# Drop records with missing item number, as these cannot be reliably joined for analysis\n",
    "product = product.dropna(subset=['ITEM'])"
   ]
  },
  {
   "cell_type": "code",
   "execution_count": 380,
   "id": "ac63d545",
   "metadata": {},
   "outputs": [],
   "source": [
    "# Text Normalization - Strip whitespace and normalize case in string columns\n",
    "text_cols = ['MANUFACTURER',\n",
    "             'BRAND',\n",
    "             'ITEM',\n",
    "             'ITEM_DESCRIPTION',\n",
    "             'FORMAT',\n",
    "             'ATTR1',\n",
    "             'ATTR2',\n",
    "             'ATTR3']\n",
    "\n",
    "for col in text_cols:\n",
    "    product[col] = (product[col]\n",
    "                    .astype(str)    # Enforce data type as string\n",
    "                    .str.strip()    # Remove hanging spaces\n",
    "                    .str.upper()    # Normalize to uppercase \n",
    "                    .str.replace(r'\\s+', ' ', regex=True)   # Remove special whitespace characters\n",
    "                    \n",
    "                    # Fix inconsistencies \n",
    "                    .str.replace('NO DEFINIDO', 'UNDEFINED')    # Ensure consistency with English/Spanish content - undefined values\n",
    "                    .str.replace(\"PRE LAVADOR\", \"PRELAVADOR\")    # Ensure consistency within categories\n",
    "\n",
    "    )"
   ]
  },
  {
   "cell_type": "code",
   "execution_count": 381,
   "id": "b27cff9f",
   "metadata": {},
   "outputs": [
    {
     "name": "stdout",
     "output_type": "stream",
     "text": [
      "No invalid categories\n"
     ]
    }
   ],
   "source": [
    "# Verify category consistency\n",
    "invalid_categories = product[~product['CATEGORY'].between(1,5)]\n",
    "\n",
    "if invalid_categories.empty:\n",
    "    print(\"No invalid categories\")\n",
    "else:\n",
    "    print(\"Found invalid categories.\")"
   ]
  },
  {
   "cell_type": "code",
   "execution_count": 382,
   "id": "5186233c",
   "metadata": {},
   "outputs": [],
   "source": [
    "# Type enforcement\n",
    "product['ITEM'] = (\n",
    "    product['ITEM']\n",
    "    .astype(str)        # Make sure ITEM column is enforced as string\n",
    "    .str.zfill(13)      # Pad the digits to fill 13\n",
    ")"
   ]
  },
  {
   "cell_type": "code",
   "execution_count": 383,
   "id": "1e68d6eb",
   "metadata": {},
   "outputs": [],
   "source": [
    "# Deduplication\n",
    "product.drop_duplicates(inplace=True)"
   ]
  },
  {
   "cell_type": "code",
   "execution_count": 384,
   "id": "dfdca324",
   "metadata": {},
   "outputs": [
    {
     "name": "stdout",
     "output_type": "stream",
     "text": [
      "Unique FORMATS: ['LIQUIDO' 'POLVO' 'GEL' 'TOALLAS' 'BARRA']\n",
      "Unique ATTRIBUTE 1: ['CLORO' 'SANITIZANTE' 'SAFE BLEACH' 'PRELAVADOR' 'UNDEFINED']\n",
      "Unique ATTRIBUTE 2: ['CLORO' 'SANITIZANTE' 'FABRIC TREATMENT']\n",
      "Unique ATTRIBUTE 3: ['UNDEFINED' 'OTR. TIPOS' 'SANITIZANTE' 'PRELAVADOR' 'COLOR PODER VINAGRE'\n",
      " 'QUITAMANCHAS' 'ROPA COLOR' 'MULTIUSOS' 'BLANCO' 'GERMICIDA' 'BAMBINO'\n",
      " 'ROPA BEBE' 'MASCOTAS' 'ROSA' 'ROPA BLANCA']\n"
     ]
    }
   ],
   "source": [
    "# Prepare dataset for joining - ensure consistency with Format and Attributes\n",
    "unique_prod_format = product['FORMAT'].unique()\n",
    "unique_prod_attr1 = product['ATTR1'].unique()\n",
    "unique_prod_attr2 = product['ATTR2'].unique()\n",
    "unique_prod_attr3 = product['ATTR3'].unique()\n",
    "\n",
    "print(\"Unique FORMATS:\", unique_prod_format)\n",
    "print(\"Unique ATTRIBUTE 1:\", unique_prod_attr1)\n",
    "print(\"Unique ATTRIBUTE 2:\", unique_prod_attr2)\n",
    "print(\"Unique ATTRIBUTE 3:\", unique_prod_attr3)"
   ]
  },
  {
   "cell_type": "code",
   "execution_count": 385,
   "id": "f5bd3605",
   "metadata": {},
   "outputs": [],
   "source": [
    "# Rename columns for consistency\n",
    "product.rename(columns={\n",
    "    \"ITEM\": \"ITEM_CODE\",\n",
    "    \"CATEGORY\": \"ID_CATEGORY\"\n",
    "}, inplace=True)"
   ]
  },
  {
   "cell_type": "code",
   "execution_count": 386,
   "id": "5ab7f56d",
   "metadata": {},
   "outputs": [
    {
     "data": {
      "text/html": [
       "<div>\n",
       "<style scoped>\n",
       "    .dataframe tbody tr th:only-of-type {\n",
       "        vertical-align: middle;\n",
       "    }\n",
       "\n",
       "    .dataframe tbody tr th {\n",
       "        vertical-align: top;\n",
       "    }\n",
       "\n",
       "    .dataframe thead th {\n",
       "        text-align: right;\n",
       "    }\n",
       "</style>\n",
       "<table border=\"1\" class=\"dataframe\">\n",
       "  <thead>\n",
       "    <tr style=\"text-align: right;\">\n",
       "      <th></th>\n",
       "      <th>MANUFACTURER</th>\n",
       "      <th>BRAND</th>\n",
       "      <th>ITEM_CODE</th>\n",
       "      <th>ITEM_DESCRIPTION</th>\n",
       "      <th>ID_CATEGORY</th>\n",
       "      <th>FORMAT</th>\n",
       "      <th>ATTR1</th>\n",
       "      <th>ATTR2</th>\n",
       "      <th>ATTR3</th>\n",
       "    </tr>\n",
       "  </thead>\n",
       "  <tbody>\n",
       "    <tr>\n",
       "      <th>378</th>\n",
       "      <td>CLOROX</td>\n",
       "      <td>CLOROX</td>\n",
       "      <td>7501071904349</td>\n",
       "      <td>CLOROX ROPA COLORES VIVOS OXIGENO ACTIVO GALON...</td>\n",
       "      <td>1</td>\n",
       "      <td>LIQUIDO</td>\n",
       "      <td>SAFE BLEACH</td>\n",
       "      <td>FABRIC TREATMENT</td>\n",
       "      <td>ROPA COLOR</td>\n",
       "    </tr>\n",
       "    <tr>\n",
       "      <th>407</th>\n",
       "      <td>CLOROX</td>\n",
       "      <td>CLOROX</td>\n",
       "      <td>7501071907722</td>\n",
       "      <td>CLOROX ANTISPLASH BLANQ+DET GEL FLORES DE LAVA...</td>\n",
       "      <td>1</td>\n",
       "      <td>GEL</td>\n",
       "      <td>CLORO</td>\n",
       "      <td>CLORO</td>\n",
       "      <td>MULTIUSOS</td>\n",
       "    </tr>\n",
       "    <tr>\n",
       "      <th>90</th>\n",
       "      <td>INDS. ALEN</td>\n",
       "      <td>CLORALEX</td>\n",
       "      <td>7501025400361</td>\n",
       "      <td>CLORALEX GERANIO Y ALOE BOT PLAS 2 LT 75010254...</td>\n",
       "      <td>1</td>\n",
       "      <td>LIQUIDO</td>\n",
       "      <td>CLORO</td>\n",
       "      <td>CLORO</td>\n",
       "      <td>UNDEFINED</td>\n",
       "    </tr>\n",
       "    <tr>\n",
       "      <th>409</th>\n",
       "      <td>CLOROX</td>\n",
       "      <td>CLOROX</td>\n",
       "      <td>7501071908385</td>\n",
       "      <td>CLOROX ANTISPLASH BLANQ+DET GEL BP 3800ML 7501...</td>\n",
       "      <td>1</td>\n",
       "      <td>GEL</td>\n",
       "      <td>CLORO</td>\n",
       "      <td>CLORO</td>\n",
       "      <td>MULTIUSOS</td>\n",
       "    </tr>\n",
       "    <tr>\n",
       "      <th>443</th>\n",
       "      <td>JABONERA LA ESPUMA</td>\n",
       "      <td>BANDERA</td>\n",
       "      <td>7501681100018</td>\n",
       "      <td>BANDERA BLANQUEADOR LIMPIA DESEINFECTA BOT PLA...</td>\n",
       "      <td>1</td>\n",
       "      <td>LIQUIDO</td>\n",
       "      <td>CLORO</td>\n",
       "      <td>CLORO</td>\n",
       "      <td>UNDEFINED</td>\n",
       "    </tr>\n",
       "  </tbody>\n",
       "</table>\n",
       "</div>"
      ],
      "text/plain": [
       "           MANUFACTURER     BRAND      ITEM_CODE  \\\n",
       "378              CLOROX    CLOROX  7501071904349   \n",
       "407              CLOROX    CLOROX  7501071907722   \n",
       "90           INDS. ALEN  CLORALEX  7501025400361   \n",
       "409              CLOROX    CLOROX  7501071908385   \n",
       "443  JABONERA LA ESPUMA   BANDERA  7501681100018   \n",
       "\n",
       "                                      ITEM_DESCRIPTION  ID_CATEGORY   FORMAT  \\\n",
       "378  CLOROX ROPA COLORES VIVOS OXIGENO ACTIVO GALON...            1  LIQUIDO   \n",
       "407  CLOROX ANTISPLASH BLANQ+DET GEL FLORES DE LAVA...            1      GEL   \n",
       "90   CLORALEX GERANIO Y ALOE BOT PLAS 2 LT 75010254...            1  LIQUIDO   \n",
       "409  CLOROX ANTISPLASH BLANQ+DET GEL BP 3800ML 7501...            1      GEL   \n",
       "443  BANDERA BLANQUEADOR LIMPIA DESEINFECTA BOT PLA...            1  LIQUIDO   \n",
       "\n",
       "           ATTR1             ATTR2       ATTR3  \n",
       "378  SAFE BLEACH  FABRIC TREATMENT  ROPA COLOR  \n",
       "407        CLORO             CLORO   MULTIUSOS  \n",
       "90         CLORO             CLORO   UNDEFINED  \n",
       "409        CLORO             CLORO   MULTIUSOS  \n",
       "443        CLORO             CLORO   UNDEFINED  "
      ]
     },
     "execution_count": 386,
     "metadata": {},
     "output_type": "execute_result"
    }
   ],
   "source": [
    "# Preview a random selection\n",
    "product.sample(5, random_state=5)"
   ]
  },
  {
   "cell_type": "markdown",
   "id": "2339a970",
   "metadata": {},
   "source": [
    "#### SEGMENT Dataset"
   ]
  },
  {
   "cell_type": "code",
   "execution_count": 387,
   "id": "f985c496",
   "metadata": {},
   "outputs": [
    {
     "name": "stdout",
     "output_type": "stream",
     "text": [
      "<class 'pandas.core.frame.DataFrame'>\n",
      "RangeIndex: 53 entries, 0 to 52\n",
      "Data columns (total 6 columns):\n",
      " #   Column    Non-Null Count  Dtype \n",
      "---  ------    --------------  ----- \n",
      " 0   CATEGORY  53 non-null     int64 \n",
      " 1   ATTR1     53 non-null     object\n",
      " 2   ATTR2     53 non-null     object\n",
      " 3   ATTR3     52 non-null     object\n",
      " 4   FORMAT    53 non-null     object\n",
      " 5   SEGMENT   53 non-null     object\n",
      "dtypes: int64(1), object(5)\n",
      "memory usage: 2.6+ KB\n"
     ]
    }
   ],
   "source": [
    "segment.info()"
   ]
  },
  {
   "cell_type": "code",
   "execution_count": 388,
   "id": "c3c64b01",
   "metadata": {},
   "outputs": [],
   "source": [
    "# Handle Missing Value\n",
    "segment['ATTR3'] = segment['ATTR3'].fillna('UNDEFINED')"
   ]
  },
  {
   "cell_type": "code",
   "execution_count": 389,
   "id": "13fb7250",
   "metadata": {},
   "outputs": [],
   "source": [
    "# Text Normalization\n",
    "attr_cols = ['ATTR1',\n",
    "             'ATTR2',\n",
    "             'ATTR3',\n",
    "             'FORMAT',\n",
    "             'SEGMENT']\n",
    "\n",
    "for col in attr_cols:\n",
    "    segment[col] = (segment[col]\n",
    "                    .astype(str)    # Enforce string datatype\n",
    "                    .str.strip()    # Remove hanging spaces\n",
    "                    .str.replace(r'\\s+', ' ', regex=True)   # Remove whitespace characters\n",
    "                    .str.replace(\"NO DEFINIDO\", \"UNDEFINED\")    # Ensure consistency with Spanish/English\n",
    "                    .str.replace(\"PRE LAVADOR\", \"PRELAVADOR\")    # Ensure consistency within categories\n",
    "                    )"
   ]
  },
  {
   "cell_type": "code",
   "execution_count": 390,
   "id": "b12decff",
   "metadata": {},
   "outputs": [
    {
     "name": "stdout",
     "output_type": "stream",
     "text": [
      "No invalid categories\n"
     ]
    }
   ],
   "source": [
    "# Verify category consistency\n",
    "invalid_categories = segment[~segment['CATEGORY'].between(1,5)]\n",
    "\n",
    "if invalid_categories.empty:\n",
    "    print(\"No invalid categories\")\n",
    "else:\n",
    "    print(\"Found invalid categories.\")"
   ]
  },
  {
   "cell_type": "code",
   "execution_count": 391,
   "id": "4c8df6e7",
   "metadata": {},
   "outputs": [
    {
     "name": "stdout",
     "output_type": "stream",
     "text": [
      "Unique ATTRIBUTE 1: ['CLORO' 'PRELAVADOR' 'SAFE BLEACH' 'SANITIZANTE']\n",
      "Unique ATTRIBUTE 2: ['CLORO' 'MASCOTAS' 'MULTIUSOS' 'UNDEFINED' 'FABRIC TREATMENT'\n",
      " 'PRELAVADOR' 'SANITIZANTE']\n",
      "Unique ATTRIBUTE 3: ['BAMBINO' 'GERMICIDA' 'MASCOTAS' 'MULTIUSOS' 'UNDEFINED' 'OTR. TIPOS'\n",
      " 'ROPA BEBE' 'BLANCO' 'PRELAVADOR' 'QUITAMANCHAS' 'ROPA COLOR' 'ROSA'\n",
      " 'COLOR PODER VINAGRE' 'PODER OXIGENO' 'ROPA BLANCA' 'SANITIZANTE']\n",
      "Unique FORMATS: ['LIQUIDO' 'GEL' 'POLVO' 'TOALLAS' 'BARRA']\n",
      "Unique SEGMENT: ['BLEACH' 'LIQUID & GEL' 'POWDER' 'OTHERS' 'PRETREAT' 'BAR' 'SANITIZER']\n"
     ]
    }
   ],
   "source": [
    "# Prepare dataset for joining - ensure consistency with Format and Attributes\n",
    "unique_seg_attr1 =  segment['ATTR1'].unique()\n",
    "unique_seg_attr2 =  segment['ATTR2'].unique()\n",
    "unique_seg_attr3 =  segment['ATTR3'].unique()\n",
    "unique_seg_format =  segment['FORMAT'].unique()\n",
    "unique_seg_segment = segment['SEGMENT'].unique()\n",
    "\n",
    "print(\"Unique ATTRIBUTE 1:\", unique_seg_attr1)\n",
    "print(\"Unique ATTRIBUTE 2:\", unique_seg_attr2)\n",
    "print(\"Unique ATTRIBUTE 3:\", unique_seg_attr3)\n",
    "print(\"Unique FORMATS:\", unique_seg_format)\n",
    "print(\"Unique SEGMENT:\", unique_seg_segment)"
   ]
  },
  {
   "cell_type": "code",
   "execution_count": 392,
   "id": "cffffbf1",
   "metadata": {},
   "outputs": [],
   "source": [
    "# Rename columns for consistency\n",
    "segment.rename(columns={'CATEGORY': 'ID_CATEGORY'}, inplace=True)"
   ]
  },
  {
   "cell_type": "code",
   "execution_count": 393,
   "id": "cf3713e2",
   "metadata": {},
   "outputs": [
    {
     "data": {
      "text/html": [
       "<div>\n",
       "<style scoped>\n",
       "    .dataframe tbody tr th:only-of-type {\n",
       "        vertical-align: middle;\n",
       "    }\n",
       "\n",
       "    .dataframe tbody tr th {\n",
       "        vertical-align: top;\n",
       "    }\n",
       "\n",
       "    .dataframe thead th {\n",
       "        text-align: right;\n",
       "    }\n",
       "</style>\n",
       "<table border=\"1\" class=\"dataframe\">\n",
       "  <thead>\n",
       "    <tr style=\"text-align: right;\">\n",
       "      <th></th>\n",
       "      <th>ID_CATEGORY</th>\n",
       "      <th>ATTR1</th>\n",
       "      <th>ATTR2</th>\n",
       "      <th>ATTR3</th>\n",
       "      <th>FORMAT</th>\n",
       "      <th>SEGMENT</th>\n",
       "    </tr>\n",
       "  </thead>\n",
       "  <tbody>\n",
       "    <tr>\n",
       "      <th>0</th>\n",
       "      <td>1</td>\n",
       "      <td>CLORO</td>\n",
       "      <td>CLORO</td>\n",
       "      <td>BAMBINO</td>\n",
       "      <td>LIQUIDO</td>\n",
       "      <td>BLEACH</td>\n",
       "    </tr>\n",
       "    <tr>\n",
       "      <th>1</th>\n",
       "      <td>1</td>\n",
       "      <td>CLORO</td>\n",
       "      <td>CLORO</td>\n",
       "      <td>GERMICIDA</td>\n",
       "      <td>LIQUIDO</td>\n",
       "      <td>BLEACH</td>\n",
       "    </tr>\n",
       "    <tr>\n",
       "      <th>2</th>\n",
       "      <td>1</td>\n",
       "      <td>CLORO</td>\n",
       "      <td>CLORO</td>\n",
       "      <td>MASCOTAS</td>\n",
       "      <td>LIQUIDO</td>\n",
       "      <td>BLEACH</td>\n",
       "    </tr>\n",
       "    <tr>\n",
       "      <th>3</th>\n",
       "      <td>1</td>\n",
       "      <td>CLORO</td>\n",
       "      <td>CLORO</td>\n",
       "      <td>MULTIUSOS</td>\n",
       "      <td>GEL</td>\n",
       "      <td>BLEACH</td>\n",
       "    </tr>\n",
       "    <tr>\n",
       "      <th>4</th>\n",
       "      <td>1</td>\n",
       "      <td>CLORO</td>\n",
       "      <td>CLORO</td>\n",
       "      <td>MULTIUSOS</td>\n",
       "      <td>LIQUIDO</td>\n",
       "      <td>BLEACH</td>\n",
       "    </tr>\n",
       "  </tbody>\n",
       "</table>\n",
       "</div>"
      ],
      "text/plain": [
       "   ID_CATEGORY  ATTR1  ATTR2      ATTR3   FORMAT SEGMENT\n",
       "0            1  CLORO  CLORO    BAMBINO  LIQUIDO  BLEACH\n",
       "1            1  CLORO  CLORO  GERMICIDA  LIQUIDO  BLEACH\n",
       "2            1  CLORO  CLORO   MASCOTAS  LIQUIDO  BLEACH\n",
       "3            1  CLORO  CLORO  MULTIUSOS      GEL  BLEACH\n",
       "4            1  CLORO  CLORO  MULTIUSOS  LIQUIDO  BLEACH"
      ]
     },
     "execution_count": 393,
     "metadata": {},
     "output_type": "execute_result"
    }
   ],
   "source": [
    "segment.head()"
   ]
  },
  {
   "cell_type": "markdown",
   "id": "cef0d1e3",
   "metadata": {},
   "source": [
    "#### SALES Dataset"
   ]
  },
  {
   "cell_type": "code",
   "execution_count": 394,
   "id": "05c7ccb5",
   "metadata": {},
   "outputs": [],
   "source": [
    "# Standardize column names\n",
    "sales.columns = sales.columns.str.strip().str.upper().str.replace(r'\\s+', ' ', regex=True)"
   ]
  },
  {
   "cell_type": "code",
   "execution_count": 395,
   "id": "a8abe81a",
   "metadata": {},
   "outputs": [
    {
     "data": {
      "text/html": [
       "<div>\n",
       "<style scoped>\n",
       "    .dataframe tbody tr th:only-of-type {\n",
       "        vertical-align: middle;\n",
       "    }\n",
       "\n",
       "    .dataframe tbody tr th {\n",
       "        vertical-align: top;\n",
       "    }\n",
       "\n",
       "    .dataframe thead th {\n",
       "        text-align: right;\n",
       "    }\n",
       "</style>\n",
       "<table border=\"1\" class=\"dataframe\">\n",
       "  <thead>\n",
       "    <tr style=\"text-align: right;\">\n",
       "      <th></th>\n",
       "      <th>WEEK</th>\n",
       "      <th>ITEM_CODE</th>\n",
       "      <th>TOTAL_UNIT_SALES</th>\n",
       "      <th>TOTAL_VALUE_SALES</th>\n",
       "      <th>TOTAL_UNIT_AVG_WEEKLY_SALES</th>\n",
       "      <th>REGION</th>\n",
       "      <th>DATE</th>\n",
       "    </tr>\n",
       "  </thead>\n",
       "  <tbody>\n",
       "  </tbody>\n",
       "</table>\n",
       "</div>"
      ],
      "text/plain": [
       "Empty DataFrame\n",
       "Columns: [WEEK, ITEM_CODE, TOTAL_UNIT_SALES, TOTAL_VALUE_SALES, TOTAL_UNIT_AVG_WEEKLY_SALES, REGION, DATE]\n",
       "Index: []"
      ]
     },
     "execution_count": 395,
     "metadata": {},
     "output_type": "execute_result"
    }
   ],
   "source": [
    "# Standardize dates - convert week to datetime using the Calendar lookup table\n",
    "sales = sales.merge(calendar[['WEEK', 'DATE']], on='WEEK', how='left')\n",
    "\n",
    "# Verify no null date values/mismatches\n",
    "sales[sales['DATE'].isnull()]"
   ]
  },
  {
   "cell_type": "code",
   "execution_count": 396,
   "id": "e223b8ff",
   "metadata": {},
   "outputs": [],
   "source": [
    "# Week column from calendar and sales as they are no longer needed\n",
    "sales.drop(columns=[\"WEEK\"], inplace=True)\n",
    "calendar.drop(columns=[\"WEEK\"], inplace=True)\n",
    "\n",
    "# Move DATE in sales to the the first position\n",
    "cols = sales.columns.tolist()\n",
    "cols.insert(0, cols.pop(cols.index('DATE')))\n",
    "sales = sales[cols]"
   ]
  },
  {
   "cell_type": "code",
   "execution_count": 397,
   "id": "5639dec4",
   "metadata": {},
   "outputs": [
    {
     "name": "stdout",
     "output_type": "stream",
     "text": [
      "Sales columns: Index(['DATE', 'ITEM_CODE', 'TOTAL_UNIT_SALES', 'TOTAL_VALUE_SALES',\n",
      "       'TOTAL_UNIT_AVG_WEEKLY_SALES', 'REGION'],\n",
      "      dtype='object')\n",
      "Calendar columns: Index(['YEAR', 'MONTH', 'WEEK_NUMBER', 'DATE'], dtype='object')\n"
     ]
    }
   ],
   "source": [
    "# Verify changes\n",
    "print(\"Sales columns:\", sales.columns)\n",
    "print(\"Calendar columns:\", calendar.columns)"
   ]
  },
  {
   "cell_type": "code",
   "execution_count": 398,
   "id": "e85711d3",
   "metadata": {},
   "outputs": [
    {
     "data": {
      "text/plain": [
       "TOTAL_UNIT_SALES               0\n",
       "TOTAL_VALUE_SALES              0\n",
       "TOTAL_UNIT_AVG_WEEKLY_SALES    0\n",
       "dtype: int64"
      ]
     },
     "execution_count": 398,
     "metadata": {},
     "output_type": "execute_result"
    }
   ],
   "source": [
    "# Data type enforcement\n",
    "\n",
    "# Ensure ITEM_CODE is in string format and consistent with product table\n",
    "sales['ITEM_CODE'] = (\n",
    "    sales['ITEM_CODE']\n",
    "    .astype(str)        # Make sure ITEM column is enforced as string\n",
    "    .str.zfill(13)      # Pad the digits to fill 13\n",
    ")\n",
    "\n",
    "# Ensure numeric fields are actually numeric\n",
    "numeric_cols = ['TOTAL_UNIT_SALES',\n",
    "                'TOTAL_VALUE_SALES',\n",
    "                'TOTAL_UNIT_AVG_WEEKLY_SALES']\n",
    "\n",
    "for col in numeric_cols:\n",
    "    sales[col] = pd.to_numeric(sales[col], errors='coerce') # Changes any anomalies to NaN\n",
    "\n",
    "# Inspect any nulls\n",
    "sales[numeric_cols].isnull().sum()"
   ]
  },
  {
   "cell_type": "code",
   "execution_count": 399,
   "id": "57d99274",
   "metadata": {},
   "outputs": [],
   "source": [
    "# Text Normalization for region\n",
    "sales['REGION'] = (sales['REGION']\n",
    "                    .astype(str)    # Enforce string datatype\n",
    "                    .str.strip()    # Remove hanging spaces\n",
    "                    .str.replace(r'\\s+', ' ', regex=True)   # Remove whitespace characters\n",
    "                    .str.replace(\"NO DEFINIDO\", \"UNDEFINED\")    # Ensure consistency with Spanish/English\n",
    "                    )"
   ]
  },
  {
   "cell_type": "code",
   "execution_count": 400,
   "id": "6ef3a8ab",
   "metadata": {},
   "outputs": [
    {
     "data": {
      "text/plain": [
       "DATE   ITEM_CODE  TOTAL_UNIT_SALES  TOTAL_VALUE_SALES  TOTAL_UNIT_AVG_WEEKLY_SALES  REGION\n",
       "False  False      False             False              False                        False     122002\n",
       "Name: count, dtype: int64"
      ]
     },
     "execution_count": 400,
     "metadata": {},
     "output_type": "execute_result"
    }
   ],
   "source": [
    "# Handle missing values\n",
    "sales.isnull().value_counts()"
   ]
  },
  {
   "cell_type": "code",
   "execution_count": 401,
   "id": "3cbbec1f",
   "metadata": {},
   "outputs": [
    {
     "name": "stdout",
     "output_type": "stream",
     "text": [
      "Duplicates:  False    122002\n",
      "Name: count, dtype: int64\n"
     ]
    }
   ],
   "source": [
    "# Check for duplicate values\n",
    "print(\"Duplicates: \", sales.duplicated().value_counts())"
   ]
  },
  {
   "cell_type": "code",
   "execution_count": 402,
   "id": "6359ad23",
   "metadata": {},
   "outputs": [
    {
     "data": {
      "text/html": [
       "<div>\n",
       "<style scoped>\n",
       "    .dataframe tbody tr th:only-of-type {\n",
       "        vertical-align: middle;\n",
       "    }\n",
       "\n",
       "    .dataframe tbody tr th {\n",
       "        vertical-align: top;\n",
       "    }\n",
       "\n",
       "    .dataframe thead th {\n",
       "        text-align: right;\n",
       "    }\n",
       "</style>\n",
       "<table border=\"1\" class=\"dataframe\">\n",
       "  <thead>\n",
       "    <tr style=\"text-align: right;\">\n",
       "      <th></th>\n",
       "      <th>DATE</th>\n",
       "      <th>ITEM_CODE</th>\n",
       "      <th>TOTAL_UNIT_SALES</th>\n",
       "      <th>TOTAL_VALUE_SALES</th>\n",
       "      <th>TOTAL_UNIT_AVG_WEEKLY_SALES</th>\n",
       "      <th>REGION</th>\n",
       "    </tr>\n",
       "  </thead>\n",
       "  <tbody>\n",
       "    <tr>\n",
       "      <th>16703</th>\n",
       "      <td>2022-08-22</td>\n",
       "      <td>7501058757630</td>\n",
       "      <td>0.296</td>\n",
       "      <td>29.417</td>\n",
       "      <td>3.083</td>\n",
       "      <td>TOTAL AUTOS AREA 3</td>\n",
       "    </tr>\n",
       "    <tr>\n",
       "      <th>67221</th>\n",
       "      <td>2022-08-01</td>\n",
       "      <td>7501058716798</td>\n",
       "      <td>0.254</td>\n",
       "      <td>37.854</td>\n",
       "      <td>2.028</td>\n",
       "      <td>TOTAL AUTOS AREA 2</td>\n",
       "    </tr>\n",
       "    <tr>\n",
       "      <th>78554</th>\n",
       "      <td>2023-01-09</td>\n",
       "      <td>7501025402242</td>\n",
       "      <td>1.663</td>\n",
       "      <td>60.283</td>\n",
       "      <td>5.716</td>\n",
       "      <td>TOTAL AUTOS AREA 2</td>\n",
       "    </tr>\n",
       "    <tr>\n",
       "      <th>80044</th>\n",
       "      <td>2023-05-08</td>\n",
       "      <td>7501681100384</td>\n",
       "      <td>0.207</td>\n",
       "      <td>3.043</td>\n",
       "      <td>4.814</td>\n",
       "      <td>TOTAL AUTOS AREA 6</td>\n",
       "    </tr>\n",
       "    <tr>\n",
       "      <th>50966</th>\n",
       "      <td>2022-08-08</td>\n",
       "      <td>7501058795908</td>\n",
       "      <td>0.111</td>\n",
       "      <td>24.168</td>\n",
       "      <td>2.094</td>\n",
       "      <td>TOTAL AUTOS AREA 6</td>\n",
       "    </tr>\n",
       "  </tbody>\n",
       "</table>\n",
       "</div>"
      ],
      "text/plain": [
       "            DATE      ITEM_CODE  TOTAL_UNIT_SALES  TOTAL_VALUE_SALES  \\\n",
       "16703 2022-08-22  7501058757630             0.296             29.417   \n",
       "67221 2022-08-01  7501058716798             0.254             37.854   \n",
       "78554 2023-01-09  7501025402242             1.663             60.283   \n",
       "80044 2023-05-08  7501681100384             0.207              3.043   \n",
       "50966 2022-08-08  7501058795908             0.111             24.168   \n",
       "\n",
       "       TOTAL_UNIT_AVG_WEEKLY_SALES              REGION  \n",
       "16703                        3.083  TOTAL AUTOS AREA 3  \n",
       "67221                        2.028  TOTAL AUTOS AREA 2  \n",
       "78554                        5.716  TOTAL AUTOS AREA 2  \n",
       "80044                        4.814  TOTAL AUTOS AREA 6  \n",
       "50966                        2.094  TOTAL AUTOS AREA 6  "
      ]
     },
     "execution_count": 402,
     "metadata": {},
     "output_type": "execute_result"
    }
   ],
   "source": [
    "sales.sample(5, random_state=5)"
   ]
  },
  {
   "cell_type": "markdown",
   "id": "ea5c9295",
   "metadata": {},
   "source": [
    "### Join the data"
   ]
  },
  {
   "cell_type": "code",
   "execution_count": 403,
   "id": "b17a8d7d",
   "metadata": {},
   "outputs": [],
   "source": [
    "# Union the relevant tables after the cleaning\n",
    "#   to have a consolidated data set\n",
    "#  Realiza uniones entre los DataFrames para consolidar la información. \n",
    "#   Por ejemplo, une la tabla de productos con las ventas, \n",
    "#   las categorías y los segmentos."
   ]
  },
  {
   "cell_type": "code",
   "execution_count": 404,
   "id": "61c1de34",
   "metadata": {},
   "outputs": [
    {
     "data": {
      "text/plain": [
       "Index(['ID_CATEGORY', 'ATTR1', 'ATTR2', 'ATTR3', 'FORMAT', 'SEGMENT'], dtype='object')"
      ]
     },
     "execution_count": 404,
     "metadata": {},
     "output_type": "execute_result"
    }
   ],
   "source": [
    "segment.columns"
   ]
  },
  {
   "cell_type": "code",
   "execution_count": 405,
   "id": "83bf8aa8",
   "metadata": {},
   "outputs": [],
   "source": [
    "# Create one consolidated dataset ready for transformation and analysis\n",
    "sales = (sales\n",
    "         .merge(product, on='ITEM_CODE', how='left')\n",
    "         .merge(category, on='ID_CATEGORY', how='left')\n",
    "         .merge(segment, on=['ID_CATEGORY', 'ATTR1', 'ATTR2', 'ATTR3', 'FORMAT'], how='left')\n",
    "         )"
   ]
  },
  {
   "cell_type": "code",
   "execution_count": null,
   "id": "9698014d",
   "metadata": {},
   "outputs": [
    {
     "data": {
      "text/html": [
       "<div>\n",
       "<style scoped>\n",
       "    .dataframe tbody tr th:only-of-type {\n",
       "        vertical-align: middle;\n",
       "    }\n",
       "\n",
       "    .dataframe tbody tr th {\n",
       "        vertical-align: top;\n",
       "    }\n",
       "\n",
       "    .dataframe thead th {\n",
       "        text-align: right;\n",
       "    }\n",
       "</style>\n",
       "<table border=\"1\" class=\"dataframe\">\n",
       "  <thead>\n",
       "    <tr style=\"text-align: right;\">\n",
       "      <th></th>\n",
       "      <th>DATE</th>\n",
       "      <th>ITEM_CODE</th>\n",
       "      <th>TOTAL_UNIT_SALES</th>\n",
       "      <th>TOTAL_VALUE_SALES</th>\n",
       "      <th>TOTAL_UNIT_AVG_WEEKLY_SALES</th>\n",
       "      <th>REGION</th>\n",
       "      <th>MANUFACTURER</th>\n",
       "      <th>BRAND</th>\n",
       "      <th>ITEM_DESCRIPTION</th>\n",
       "      <th>ID_CATEGORY</th>\n",
       "      <th>FORMAT</th>\n",
       "      <th>ATTR1</th>\n",
       "      <th>ATTR2</th>\n",
       "      <th>ATTR3</th>\n",
       "      <th>CATEGORY</th>\n",
       "      <th>SEGMENT</th>\n",
       "    </tr>\n",
       "  </thead>\n",
       "  <tbody>\n",
       "    <tr>\n",
       "      <th>142705</th>\n",
       "      <td>2023-05-15</td>\n",
       "      <td>7501071902956</td>\n",
       "      <td>8.179</td>\n",
       "      <td>395.809</td>\n",
       "      <td>14.871</td>\n",
       "      <td>TOTAL AUTOS SCANNING MEXICO</td>\n",
       "      <td>CLOROX</td>\n",
       "      <td>CLOROX</td>\n",
       "      <td>CLOROX BLANQUEADOR CONCENTRADO 5.8L NAL 750107...</td>\n",
       "      <td>1</td>\n",
       "      <td>LIQUIDO</td>\n",
       "      <td>CLORO</td>\n",
       "      <td>CLORO</td>\n",
       "      <td>UNDEFINED</td>\n",
       "      <td>FABRIC TREATMENT &amp; SANITIZERS</td>\n",
       "      <td>BLEACH</td>\n",
       "    </tr>\n",
       "    <tr>\n",
       "      <th>42084</th>\n",
       "      <td>2022-08-08</td>\n",
       "      <td>7501025401313</td>\n",
       "      <td>1.569</td>\n",
       "      <td>89.069</td>\n",
       "      <td>12.861</td>\n",
       "      <td>TOTAL AUTOS AREA 3</td>\n",
       "      <td>INDS. ALEN</td>\n",
       "      <td>CLORALEX</td>\n",
       "      <td>CLORALEX CLORO EN GEL BOT 3.75L 7501025401313</td>\n",
       "      <td>1</td>\n",
       "      <td>GEL</td>\n",
       "      <td>CLORO</td>\n",
       "      <td>CLORO</td>\n",
       "      <td>MULTIUSOS</td>\n",
       "      <td>FABRIC TREATMENT &amp; SANITIZERS</td>\n",
       "      <td>BLEACH</td>\n",
       "    </tr>\n",
       "    <tr>\n",
       "      <th>46307</th>\n",
       "      <td>2022-04-11</td>\n",
       "      <td>7501681100438</td>\n",
       "      <td>0.211</td>\n",
       "      <td>5.784</td>\n",
       "      <td>6.213</td>\n",
       "      <td>TOTAL AUTOS AREA 6</td>\n",
       "      <td>JABONERA LA ESPUMA</td>\n",
       "      <td>BANDERA</td>\n",
       "      <td>BANDERA CLORHADA AROMA NAVIDENO BOT PLAS 3.8 L...</td>\n",
       "      <td>1</td>\n",
       "      <td>LIQUIDO</td>\n",
       "      <td>CLORO</td>\n",
       "      <td>CLORO</td>\n",
       "      <td>UNDEFINED</td>\n",
       "      <td>FABRIC TREATMENT &amp; SANITIZERS</td>\n",
       "      <td>BLEACH</td>\n",
       "    </tr>\n",
       "    <tr>\n",
       "      <th>126504</th>\n",
       "      <td>2022-03-21</td>\n",
       "      <td>7501042301733</td>\n",
       "      <td>2.428</td>\n",
       "      <td>46.725</td>\n",
       "      <td>32.373</td>\n",
       "      <td>TOTAL AUTOS AREA 2</td>\n",
       "      <td>QUIMICA GONCAL</td>\n",
       "      <td>CLORTEX</td>\n",
       "      <td>CLORTEX BLANQUEADOR BOT 1890ML NAL 7501042301733</td>\n",
       "      <td>1</td>\n",
       "      <td>LIQUIDO</td>\n",
       "      <td>CLORO</td>\n",
       "      <td>CLORO</td>\n",
       "      <td>UNDEFINED</td>\n",
       "      <td>FABRIC TREATMENT &amp; SANITIZERS</td>\n",
       "      <td>BLEACH</td>\n",
       "    </tr>\n",
       "    <tr>\n",
       "      <th>96116</th>\n",
       "      <td>2023-05-08</td>\n",
       "      <td>7501058784346</td>\n",
       "      <td>0.491</td>\n",
       "      <td>75.223</td>\n",
       "      <td>2.372</td>\n",
       "      <td>TOTAL AUTOS AREA 2</td>\n",
       "      <td>RECKITT</td>\n",
       "      <td>VANISH</td>\n",
       "      <td>VANISH PODER 02 INTELLIGENCE POLVO BOT 900 GR ...</td>\n",
       "      <td>1</td>\n",
       "      <td>POLVO</td>\n",
       "      <td>SAFE BLEACH</td>\n",
       "      <td>FABRIC TREATMENT</td>\n",
       "      <td>ROSA</td>\n",
       "      <td>FABRIC TREATMENT &amp; SANITIZERS</td>\n",
       "      <td>POWDER</td>\n",
       "    </tr>\n",
       "  </tbody>\n",
       "</table>\n",
       "</div>"
      ],
      "text/plain": [
       "             DATE      ITEM_CODE  TOTAL_UNIT_SALES  TOTAL_VALUE_SALES  \\\n",
       "142705 2023-05-15  7501071902956             8.179            395.809   \n",
       "42084  2022-08-08  7501025401313             1.569             89.069   \n",
       "46307  2022-04-11  7501681100438             0.211              5.784   \n",
       "126504 2022-03-21  7501042301733             2.428             46.725   \n",
       "96116  2023-05-08  7501058784346             0.491             75.223   \n",
       "\n",
       "        TOTAL_UNIT_AVG_WEEKLY_SALES                       REGION  \\\n",
       "142705                       14.871  TOTAL AUTOS SCANNING MEXICO   \n",
       "42084                        12.861           TOTAL AUTOS AREA 3   \n",
       "46307                         6.213           TOTAL AUTOS AREA 6   \n",
       "126504                       32.373           TOTAL AUTOS AREA 2   \n",
       "96116                         2.372           TOTAL AUTOS AREA 2   \n",
       "\n",
       "              MANUFACTURER     BRAND  \\\n",
       "142705              CLOROX    CLOROX   \n",
       "42084           INDS. ALEN  CLORALEX   \n",
       "46307   JABONERA LA ESPUMA   BANDERA   \n",
       "126504      QUIMICA GONCAL   CLORTEX   \n",
       "96116              RECKITT    VANISH   \n",
       "\n",
       "                                         ITEM_DESCRIPTION  ID_CATEGORY  \\\n",
       "142705  CLOROX BLANQUEADOR CONCENTRADO 5.8L NAL 750107...            1   \n",
       "42084       CLORALEX CLORO EN GEL BOT 3.75L 7501025401313            1   \n",
       "46307   BANDERA CLORHADA AROMA NAVIDENO BOT PLAS 3.8 L...            1   \n",
       "126504   CLORTEX BLANQUEADOR BOT 1890ML NAL 7501042301733            1   \n",
       "96116   VANISH PODER 02 INTELLIGENCE POLVO BOT 900 GR ...            1   \n",
       "\n",
       "         FORMAT        ATTR1             ATTR2      ATTR3  \\\n",
       "142705  LIQUIDO        CLORO             CLORO  UNDEFINED   \n",
       "42084       GEL        CLORO             CLORO  MULTIUSOS   \n",
       "46307   LIQUIDO        CLORO             CLORO  UNDEFINED   \n",
       "126504  LIQUIDO        CLORO             CLORO  UNDEFINED   \n",
       "96116     POLVO  SAFE BLEACH  FABRIC TREATMENT       ROSA   \n",
       "\n",
       "                             CATEGORY SEGMENT  \n",
       "142705  FABRIC TREATMENT & SANITIZERS  BLEACH  \n",
       "42084   FABRIC TREATMENT & SANITIZERS  BLEACH  \n",
       "46307   FABRIC TREATMENT & SANITIZERS  BLEACH  \n",
       "126504  FABRIC TREATMENT & SANITIZERS  BLEACH  \n",
       "96116   FABRIC TREATMENT & SANITIZERS  POWDER  "
      ]
     },
     "execution_count": 406,
     "metadata": {},
     "output_type": "execute_result"
    }
   ],
   "source": [
    "# Preview consolidated table as a sample\n",
    "sales.sample(5, random_state=5)"
   ]
  },
  {
   "cell_type": "code",
   "execution_count": 410,
   "id": "b71a9ef1",
   "metadata": {},
   "outputs": [
    {
     "data": {
      "text/plain": [
       "DATE   ITEM_CODE  TOTAL_UNIT_SALES  TOTAL_VALUE_SALES  TOTAL_UNIT_AVG_WEEKLY_SALES  REGION  MANUFACTURER  BRAND  ITEM_DESCRIPTION  ID_CATEGORY  FORMAT  ATTR1  ATTR2  ATTR3  CATEGORY  SEGMENT\n",
       "False  False      False             False              False                        False   False         False  False             False        False   False  False  False  False     False      152402\n",
       "Name: count, dtype: int64"
      ]
     },
     "execution_count": 410,
     "metadata": {},
     "output_type": "execute_result"
    }
   ],
   "source": [
    "# Validate merge for nulls\n",
    "sales.isnull().value_counts()"
   ]
  },
  {
   "cell_type": "markdown",
   "id": "e0e19bc5",
   "metadata": {},
   "source": [
    "### Transform the data"
   ]
  },
  {
   "cell_type": "code",
   "execution_count": 407,
   "id": "1290edde",
   "metadata": {},
   "outputs": [],
   "source": [
    "# Apply transformations as necessary to make the data ready for later analysis.\n",
    "#  Estandariza los formatos de las columnas, como las fechas o categorías, para asegurar la consistencia en todo el conjunto de datos.\n",
    "#  Realiza cualquier transformación adicional requerida para preparar los datos para el análisis, \n",
    "#  como la creación de nuevas columnas calculadas o la agrupación de datos."
   ]
  },
  {
   "cell_type": "markdown",
   "id": "660e0ffc",
   "metadata": {},
   "source": [
    "### Export the data"
   ]
  },
  {
   "cell_type": "code",
   "execution_count": 408,
   "id": "223690da",
   "metadata": {},
   "outputs": [],
   "source": [
    "# Store cleaned and structured data in an SQL database\n",
    "# SQL helps organize the data and make it easier for retrival.\n",
    "# Use SQL for fast queries\n",
    "#  Guarda el DataFrame consolidado en un nuevo archivo CSV o Excel para su uso posterior en el análisis."
   ]
  },
  {
   "cell_type": "code",
   "execution_count": 409,
   "id": "9dfce9c3",
   "metadata": {},
   "outputs": [],
   "source": [
    "# Archivo final\n",
    "# Un archivo Jupyter Notebook (.ipynb) con los scripts utilizados para cargar,\n",
    "#   limpiar, transformar y consolidar los datos.\n"
   ]
  },
  {
   "cell_type": "markdown",
   "id": "1d0df411",
   "metadata": {},
   "source": []
  }
 ],
 "metadata": {
  "kernelspec": {
   "display_name": "Python 3",
   "language": "python",
   "name": "python3"
  },
  "language_info": {
   "codemirror_mode": {
    "name": "ipython",
    "version": 3
   },
   "file_extension": ".py",
   "mimetype": "text/x-python",
   "name": "python",
   "nbconvert_exporter": "python",
   "pygments_lexer": "ipython3",
   "version": "3.12.1"
  }
 },
 "nbformat": 4,
 "nbformat_minor": 5
}
